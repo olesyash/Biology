{
 "nbformat": 4,
 "nbformat_minor": 0,
 "metadata": {
  "colab": {
   "provenance": []
  },
  "kernelspec": {
   "name": "python3",
   "display_name": "Python 3 (ipykernel)",
   "language": "python"
  },
  "language_info": {
   "name": "python"
  }
 },
 "cells": [
  {
   "cell_type": "code",
   "source": [
    "!pip install biopython"
   ],
   "metadata": {
    "colab": {
     "base_uri": "https://localhost:8080/"
    },
    "id": "HcZoKMHiNnuU",
    "outputId": "3774870c-e185-4b86-d8fa-9348d7a91b01",
    "ExecuteTime": {
     "end_time": "2024-11-25T10:52:59.757306Z",
     "start_time": "2024-11-25T10:52:36.358483Z"
    }
   },
   "outputs": [
    {
     "name": "stdout",
     "output_type": "stream",
     "text": [
      "Collecting biopython\n",
      "  Downloading biopython-1.84-cp39-cp39-win_amd64.whl.metadata (13 kB)\n",
      "Requirement already satisfied: numpy in c:\\users\\itama\\appdata\\local\\programs\\python\\python39\\lib\\site-packages (from biopython) (2.0.2)\n",
      "Downloading biopython-1.84-cp39-cp39-win_amd64.whl (2.8 MB)\n",
      "   ---------------------------------------- 0.0/2.8 MB ? eta -:--:--\n",
      "   ---------------------------------------- 0.0/2.8 MB ? eta -:--:--\n",
      "   --- ------------------------------------ 0.3/2.8 MB ? eta -:--:--\n",
      "   ------- -------------------------------- 0.5/2.8 MB 1.1 MB/s eta 0:00:03\n",
      "   ----------- ---------------------------- 0.8/2.8 MB 1.1 MB/s eta 0:00:02\n",
      "   --------------- ------------------------ 1.0/2.8 MB 1.1 MB/s eta 0:00:02\n",
      "   ------------------ --------------------- 1.3/2.8 MB 1.1 MB/s eta 0:00:02\n",
      "   ---------------------- ----------------- 1.6/2.8 MB 1.1 MB/s eta 0:00:02\n",
      "   -------------------------- ------------- 1.8/2.8 MB 1.2 MB/s eta 0:00:01\n",
      "   ------------------------------ --------- 2.1/2.8 MB 1.1 MB/s eta 0:00:01\n",
      "   --------------------------------- ------ 2.4/2.8 MB 1.1 MB/s eta 0:00:01\n",
      "   --------------------------------- ------ 2.4/2.8 MB 1.1 MB/s eta 0:00:01\n",
      "   ---------------------------------------- 2.8/2.8 MB 1.1 MB/s eta 0:00:00\n",
      "Installing collected packages: biopython\n",
      "Successfully installed biopython-1.84\n"
     ]
    }
   ],
   "execution_count": 1
  },
  {
   "cell_type": "code",
   "source": [
    "from Bio.Align import PairwiseAligner\n"
   ],
   "metadata": {
    "id": "3cNVGjoiNb81",
    "ExecuteTime": {
     "end_time": "2024-11-25T10:53:08.828085Z",
     "start_time": "2024-11-25T10:53:08.516085Z"
    }
   },
   "outputs": [],
   "execution_count": 2
  },
  {
   "cell_type": "code",
   "metadata": {
    "colab": {
     "base_uri": "https://localhost:8080/"
    },
    "id": "mcHIgnnONX1O",
    "outputId": "89c0f610-30f3-4025-ebba-dd29b8fa67c0",
    "ExecuteTime": {
     "end_time": "2024-11-25T10:53:15.040125Z",
     "start_time": "2024-11-25T10:53:15.017128Z"
    }
   },
   "source": [
    "# Example sequences\n",
    "seq1 = \"ACGGGT\"\n",
    "seq2 = \"ACG\"\n",
    "\n",
    "# Create a PairwiseAligner instance\n",
    "aligner = PairwiseAligner()\n",
    "aligner.mode = \"global\"\n",
    "aligner.match_score = 1  # Matches score +1\n",
    "aligner.mismatch_score = 0  # Mismatches score 0\n",
    "aligner.open_gap_score = 0  # Gap opening score\n",
    "aligner.extend_gap_score = 0  # Gap extension score\n",
    "\n",
    "# Perform the alignment\n",
    "alignments = aligner.align(seq1, seq2)\n",
    "\n",
    "print(type(alignments))\n",
    "\n",
    "# Get the first alignment (can iterate over alignments if needed)\n",
    "alignment = alignments[0]\n",
    "print(\"1st Alignment:\")\n",
    "print(alignment)\n",
    "\n",
    "print(\"All Alignments:\")\n",
    "for i, current_align in enumerate(alignments):\n",
    "    print(alignments[i])\n",
    "    print(\"Score:\", alignments[i].score)\n"
   ],
   "outputs": [
    {
     "name": "stdout",
     "output_type": "stream",
     "text": [
      "<class 'Bio.Align.PairwiseAlignments'>\n",
      "1st Alignment:\n",
      "target            0 ACGGGT 6\n",
      "                  0 |||--- 6\n",
      "query             0 ACG--- 3\n",
      "\n",
      "All Alignments:\n",
      "target            0 ACGGGT 6\n",
      "                  0 |||--- 6\n",
      "query             0 ACG--- 3\n",
      "\n",
      "Score: 3.0\n",
      "target            0 ACGGGT 6\n",
      "                  0 ||-|-- 6\n",
      "query             0 AC-G-- 3\n",
      "\n",
      "Score: 3.0\n",
      "target            0 ACGGGT 6\n",
      "                  0 ||--|- 6\n",
      "query             0 AC--G- 3\n",
      "\n",
      "Score: 3.0\n"
     ]
    }
   ],
   "execution_count": 3
  },
  {
   "cell_type": "code",
   "source": [
    "print(alignments[0][0], alignments[0][1])\n",
    "print(alignments[1][0], alignments[1][1])\n",
    "print(alignments[2][0], alignments[2][1])"
   ],
   "metadata": {
    "colab": {
     "base_uri": "https://localhost:8080/"
    },
    "id": "RIvDTWNuOXdW",
    "outputId": "9471d169-a807-42c7-d460-886f149f65ca",
    "ExecuteTime": {
     "end_time": "2024-11-25T10:53:18.808281Z",
     "start_time": "2024-11-25T10:53:18.789271Z"
    }
   },
   "outputs": [
    {
     "name": "stdout",
     "output_type": "stream",
     "text": [
      "ACGGGT ACG---\n",
      "ACGGGT AC-G--\n",
      "ACGGGT AC--G-\n"
     ]
    }
   ],
   "execution_count": 4
  },
  {
   "cell_type": "markdown",
   "source": [
    "Using other scorings:"
   ],
   "metadata": {
    "id": "rPwpp-_AOE2m"
   }
  },
  {
   "cell_type": "code",
   "source": [
    "# Create a PairwiseAligner instance\n",
    "aligner = PairwiseAligner()\n",
    "aligner.mode = \"global\"\n",
    "aligner.match_score = 2  # Matches score\n",
    "aligner.mismatch_score = -1  # Mismatches score\n",
    "aligner.open_gap_score = -0.5 # Gap opening score\n",
    "aligner.extend_gap_score = -0.1  # Gap extension score\n",
    "\n",
    "#  Perform the alignment\n",
    "alignments = aligner.align(seq1, seq2)\n",
    "\n",
    "print(\"All Alignments:\")\n",
    "for i, current_align in enumerate(alignments):\n",
    "    print(alignments[i], \"Score: {:.2}\".format(alignments[i].score))"
   ],
   "metadata": {
    "colab": {
     "base_uri": "https://localhost:8080/"
    },
    "id": "QWmbjq_SOCbe",
    "outputId": "c11f916d-d4cf-47f0-f233-bcadab19ccd5",
    "ExecuteTime": {
     "end_time": "2024-11-25T10:53:24.639302Z",
     "start_time": "2024-11-25T10:53:24.619278Z"
    }
   },
   "outputs": [
    {
     "name": "stdout",
     "output_type": "stream",
     "text": [
      "All Alignments:\n",
      "target            0 ACGGGT 6\n",
      "                  0 |||--- 6\n",
      "query             0 ACG--- 3\n",
      " Score: 5.3\n"
     ]
    }
   ],
   "execution_count": 5
  },
  {
   "cell_type": "markdown",
   "source": [
    "explaining the score:\n",
    "score: 2 (match) + 2 (match) + 2 (match)  -0.5 (gap open) -0.1 (gap extend)  -0.1 (gap extend)\n",
    "score = 2 + 2 + 2 - 0.5 - 0.1 - 0.1"
   ],
   "metadata": {
    "id": "LZ49b6s7Pjb8"
   }
  },
  {
   "cell_type": "markdown",
   "source": [
    "**Note:** depending on the penalties, a gap in one sequence may be followed by\n",
    "a gap in the other sequence. If you don’t like this behaviour,\n",
    "increase the gap-open penalty:"
   ],
   "metadata": {
    "id": "Xm_VpkANP_Jy"
   }
  },
  {
   "cell_type": "code",
   "source": [
    "# Create a PairwiseAligner instance\n",
    "aligner = PairwiseAligner()\n",
    "aligner.mode = \"global\"\n",
    "aligner.match_score = 5  # Matches score +1\n",
    "aligner.mismatch_score = -4  # Mismatches score 0\n",
    "aligner.open_gap_score = -1 # Gap opening score\n",
    "aligner.extend_gap_score = -.1  # Gap extension score\n",
    "\n",
    "#  Perform the alignment\n",
    "alignments = aligner.align(\"A\", \"T\")\n",
    "\n",
    "print(\"All Alignments:\")\n",
    "for i, current_align in enumerate(alignments):\n",
    "    print(alignments[i])\n",
    "    print(\"Score: \", alignments[i].score)"
   ],
   "metadata": {
    "colab": {
     "base_uri": "https://localhost:8080/"
    },
    "id": "bxpgXlDVO0cx",
    "outputId": "b9d88d82-2b17-4898-e166-6322a2060b3a"
   },
   "execution_count": null,
   "outputs": [
    {
     "output_type": "stream",
     "name": "stdout",
     "text": [
      "All Alignments:\n",
      "target            0 -A 1\n",
      "                  0 -- 2\n",
      "query             0 T- 1\n",
      "\n",
      "Score:  -2.0\n",
      "target            0 A- 1\n",
      "                  0 -- 2\n",
      "query             0 -T 1\n",
      "\n",
      "Score:  -2.0\n"
     ]
    }
   ]
  },
  {
   "cell_type": "code",
   "source": [
    "# here it will prefer a mismatch over opening a gap\n",
    "aligner = PairwiseAligner()\n",
    "aligner.mode = \"global\"\n",
    "aligner.match_score = 5  # Matches score +1\n",
    "aligner.mismatch_score = -4  # Mismatches score 0\n",
    "aligner.open_gap_score = -3 # Gap opening score\n",
    "aligner.extend_gap_score = -.1  # Gap extension score\n",
    "\n",
    "#  Perform the alignment\n",
    "alignments = aligner.align(\"A\", \"T\")\n",
    "\n",
    "print(\"All Alignments:\")\n",
    "for i, current_align in enumerate(alignments):\n",
    "    print(alignments[i])\n",
    "    print(\"Score: \", alignments[i].score)"
   ],
   "metadata": {
    "colab": {
     "base_uri": "https://localhost:8080/"
    },
    "id": "m0uE7vxeQMmT",
    "outputId": "88cba6a6-76e1-41a5-fc16-7b1633c0b77b",
    "ExecuteTime": {
     "end_time": "2024-11-25T10:53:27.574287Z",
     "start_time": "2024-11-25T10:53:27.549273Z"
    }
   },
   "outputs": [
    {
     "name": "stdout",
     "output_type": "stream",
     "text": [
      "All Alignments:\n",
      "target            0 A 1\n",
      "                  0 . 1\n",
      "query             0 T 1\n",
      "\n",
      "Score:  -4.0\n"
     ]
    }
   ],
   "execution_count": 6
  },
  {
   "metadata": {
    "ExecuteTime": {
     "end_time": "2024-11-25T11:44:05.555159Z",
     "start_time": "2024-11-25T11:44:05.257536Z"
    }
   },
   "cell_type": "code",
   "source": [
    "from Bio import SeqIO\n",
    "\n",
    "\n",
    "def get_higest_score(match_score, mismatch_score, open_gap_score, \n",
    "                     extend_gap_score, seq1, seq2):\n",
    "    # Create a PairwiseAligner instance\n",
    "    aligner = PairwiseAligner()\n",
    "    aligner.mode = \"local\"\n",
    "    aligner.match_score = match_score  # Matches score +1\n",
    "    aligner.mismatch_score = mismatch_score  # Mismatches score 0\n",
    "    aligner.open_gap_score = open_gap_score # Gap opening score\n",
    "    aligner.extend_gap_score = extend_gap_score  # Gap extension score\n",
    "    \n",
    "    #  Perform the alignment\n",
    "    alignments = aligner.align(seq1, seq2)\n",
    "    \n",
    "    print(\"All Alignments:\")\n",
    "    max = alignments[0].score\n",
    "    return max      \n",
    "        \n",
    "my_records = []\n",
    "records = SeqIO.parse(\"sequences_dna.fasta\", \"fasta\")\n",
    "for record in records:\n",
    "    my_records.append(record)\n",
    "\n",
    "\n",
    "match_score, mismatch_score, open_gap_score, extend_gap_score = 1, 0, 0, 0  \n",
    "match_score, mismatch_score, open_gap_score, extend_gap_score = 5, 4, -1, -0.1\n",
    "match_score, mismatch_score, open_gap_score, extend_gap_score = 5, 4, -3, -0.1\n",
    "\n",
    "baboonon_to_cat = get_higest_score(match_score, mismatch_score, open_gap_score,                                      extend_gap_score, my_records[0].seq, my_records[1].seq)\n",
    "print(f\"Baboon to cat highest score: {baboonon_to_cat}\")\n",
    "baboonon_to_macaque = get_higest_score(match_score, mismatch_score, open_gap_score,                                     extend_gap_score, my_records[0].seq, my_records[2].seq)\n",
    "print(f\"Baboon to macaque highest score: {baboonon_to_macaque}\")\n",
    "cat_to_macaque = get_higest_score(match_score, mismatch_score, open_gap_score,                                      extend_gap_score, my_records[1].seq, my_records[2].seq)   \n",
    "print(f\"Cat to macaque highest score: {cat_to_macaque}\")\n",
    "\n"
   ],
   "outputs": [
    {
     "name": "stdout",
     "output_type": "stream",
     "text": [
      "All Alignments:\n",
      "Baboon to cat highest score: 6938.600000000002\n",
      "All Alignments:\n",
      "Baboon to macaque highest score: 7074.799999999999\n",
      "All Alignments:\n",
      "Cat to macaque highest score: 6908.500000000002\n"
     ]
    }
   ],
   "execution_count": 23
  },
  {
   "metadata": {
    "ExecuteTime": {
     "end_time": "2024-12-02T12:51:01.684784Z",
     "start_time": "2024-12-02T12:51:01.246783Z"
    }
   },
   "cell_type": "code",
   "source": [
    "from Bio import SeqIO\n",
    "from Bio.Align import PairwiseAligner\n",
    "\n",
    "\n",
    "def count_matches(seq1, seq2):\n",
    "    return sum(1 for a, b in zip(seq1, seq2) if a == b)\n",
    "\n",
    "def get_highest_score(match_score, mismatch_score, open_gap_score, extend_gap_score, seq1, seq2):\n",
    "    # Create a PairwiseAligner instance\n",
    "    aligner = PairwiseAligner()\n",
    "    aligner.mode = \"local\"\n",
    "    aligner.match_score = match_score\n",
    "    aligner.mismatch_score = mismatch_score\n",
    "    aligner.open_gap_score = open_gap_score\n",
    "    aligner.extend_gap_score = extend_gap_score\n",
    "\n",
    "    # Perform the alignment\n",
    "    alignments = aligner.align(seq1, seq2)\n",
    "    return alignments[0]\n",
    "\n",
    "def run_on_file(file_path):\n",
    "    # Read sequences from the FASTA file\n",
    "    records = list(SeqIO.parse(file_path, \"fasta\"))\n",
    "    \n",
    "    # Define scoring parameters\n",
    "    match_score, mismatch_score, open_gap_score, extend_gap_score = 5, -4, -3, -0.1\n",
    "    # match_score, mismatch_score, open_gap_score, extend_gap_score = 1, 0, 0, 0 \n",
    "    \n",
    "    # Compare each pair of sequences\n",
    "    for i in range(len(records)):\n",
    "        for j in range(i + 1, len(records)):\n",
    "            alignment = get_highest_score(match_score, mismatch_score,open_gap_score, extend_gap_score, records[i].seq, records[j].seq)\n",
    "            # print(alignment)\n",
    "            matches = count_matches(alignment[0], alignment[1])\n",
    "            # print(f\"matches: {matches}\")\n",
    "            score =  matches / alignment.shape[1] * 100 \n",
    "            # Normalize the score\n",
    "            print(f\"{records[i].description} to {records[j].description} highest score: {score} %\")\n",
    "   \n",
    "run_on_file(\"sequences_dna.fasta\")\n",
    "run_on_file(\"all.fasta\")"
   ],
   "outputs": [
    {
     "name": "stdout",
     "output_type": "stream",
     "text": [
      " baboon to  cat highest score: 80.0 %\n",
      " baboon to  macaque highest score: 80.45830681094844 %\n",
      " cat to  macaque highest score: 74.82866043613707 %\n",
      "AF451972.1 Pongo pygmaeus Puti mitochondrial D-loop, partial sequence to AF176731.1 Pan troglodytes verus isolate MABEL mitochondrial D-loop, partial sequence highest score: 64.321608040201 %\n",
      "AF451972.1 Pongo pygmaeus Puti mitochondrial D-loop, partial sequence to X90314.1 H.sapiens mitochondrial DNA for D-loop (isolate WG+ice37+B) highest score: 66.58163265306123 %\n",
      "AF176731.1 Pan troglodytes verus isolate MABEL mitochondrial D-loop, partial sequence to X90314.1 H.sapiens mitochondrial DNA for D-loop (isolate WG+ice37+B) highest score: 76.566757493188 %\n"
     ]
    }
   ],
   "execution_count": 3
  },
  {
   "metadata": {},
   "cell_type": "code",
   "outputs": [],
   "execution_count": null,
   "source": ""
  }
 ]
}
